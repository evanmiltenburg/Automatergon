{
 "cells": [
  {
   "cell_type": "markdown",
   "id": "e18509d1",
   "metadata": {},
   "source": [
    "# Preparing the English language data\n",
    "\n",
    "This file shows how we selected the English language data to be included in the English version of Automatergon: AutomatergonE. Given the nature of web data, we do still need to apply some filtering to the results."
   ]
  },
  {
   "cell_type": "code",
   "execution_count": 1,
   "id": "b1468ac4",
   "metadata": {},
   "outputs": [],
   "source": [
    "import re\n",
    "\n",
    "onsets = set()\n",
    "nuclei = set()\n",
    "codas = set()\n",
    "\n",
    "with open(\"./one-syllable-sorted-by-prevalence.txt\") as f:\n",
    "    for line in f:\n",
    "        match = re.search(\"^([qwrtsdfgzxcvbnmhjklp]+)[aeuio]\", line)\n",
    "        if match:\n",
    "            string = match.group(1)\n",
    "            onsets.add(string)\n",
    "        match = re.search(\"([aeuio]+)\", line)\n",
    "        if match:\n",
    "            string = match.group(0)\n",
    "            nuclei.add(string)\n",
    "        match = re.search(\"[aeuio]+([qwrtsdfgzxcvbnmhjklp]+)$\", line)\n",
    "        if match:\n",
    "            string = match.group(1)\n",
    "            codas.add(string)\n",
    "            \n",
    "short_nuclei = set(\"aeiou\")\n",
    "long_nuclei = nuclei - short_nuclei"
   ]
  },
  {
   "cell_type": "code",
   "execution_count": 2,
   "id": "9b0eb552",
   "metadata": {},
   "outputs": [],
   "source": [
    "with open(\"langdata.txt\", 'w') as f:\n",
    "    f.write(\"ONSETS:\\n\")\n",
    "    for item in sorted(onsets):\n",
    "        f.write(item + '\\n')\n",
    "    f.write('\\n')\n",
    "    f.write(\"SHORT NUCLEI:\\n\")\n",
    "    for item in sorted(short_nuclei):\n",
    "        f.write(item + '\\n')\n",
    "    f.write('\\n')\n",
    "    f.write(\"LONG NUCLEI:\\n\")\n",
    "    for item in sorted(long_nuclei):\n",
    "        f.write(item + '\\n')\n",
    "    f.write('\\n')\n",
    "    f.write(\"CODAS:\\n\")\n",
    "    for item in sorted(codas):\n",
    "        f.write(item + '\\n')"
   ]
  },
  {
   "cell_type": "code",
   "execution_count": 11,
   "id": "b8d5494a",
   "metadata": {},
   "outputs": [],
   "source": [
    "# Manually selected from the files:\n",
    "onsets     = ['b', 'bl', 'br', 'c', 'ch', 'chr', 'cl', 'cr', 'd', 'dr', 'dw', 'f', 'fl', 'fr', \n",
    "              'g', 'gh', 'gl', 'gn', 'gr', 'h', 'j', 'k', 'kn', 'l', 'm', 'n', 'p', 'ph', 'phr', \n",
    "              'pl', 'pr', 'ps', 'r', 'rh', 's', 'sc', 'scr', 'sh', 'shr', 'sk', 'sl', 'sm', 'sn', \n",
    "              'sp', 'sph', 'spl', 'spr', 'st', 'str', 'sw', 't', 'th', 'thr', 'thw', 'tr', 'tw', \n",
    "              'v', 'w', 'wh', 'wr', 'z']\n",
    "\n",
    "longvocals = ['ai', 'ea', 'ee', 'ei', 'ia', 'ie', 'oa', 'oo', 'ou']\n",
    "\n",
    "shortcoda  = ['b', 'd', 'f', 'g', 'n', 'm', 'p', 'r', 's', 't', 'w', 'x']\n",
    "\n",
    "longcoda   = ['bb', 'bs', 'ch', 'ck', 'cks', 'ct', 'dd', 'dds', 'ds', 'dth', \n",
    "              'ff', 'ffs', 'fs', 'ft', 'gg', 'gh', 'ght', 'ghth', 'ghts', 'gs', \n",
    "              'lb', 'lch', 'ld', 'lf', 'lfth', 'lk', 'll', 'lls', 'lm', 'lms', \n",
    "              'ln', 'lp', 'ls', 'lsh', 'lst', 'lt', 'lth', 'lts', 'mb', 'mbs', \n",
    "              'mn', 'mp', 'mps', 'mpt', 'ms', 'nch', 'nd', 'nds', 'ng', 'ngs', \n",
    "              'nk', 'nks', 'nn', 'ns', 'nt', 'nth', 'nts', 'ph', 'ps', 'pt', \n",
    "              'pth', 'rb', 'rc', 'rch', 'rcs', 'rd', 'rds', 'rf', 'rg', 'rk', \n",
    "              'rks', 'rld', 'rm', 'rms', 'rmth', 'rn', 'rp', 'rph', 'rps', 'rr', \n",
    "              'rs', 'rsh', 'rst', 'rsts', 'rt', 'rth', 'rts', 'sc', 'sh', 'sk', \n",
    "              'sp', 'ss', 'st', 'sts', 'tch', 'th', 'ths', 'ts', 'tsch', 'tt', \n",
    "              'wls', 'wn', 'wns', 'ws', 'wt', 'wth', 'xt', 'xth', 'zz']"
   ]
  },
  {
   "cell_type": "code",
   "execution_count": null,
   "id": "18b94f70",
   "metadata": {},
   "outputs": [],
   "source": []
  }
 ],
 "metadata": {
  "kernelspec": {
   "display_name": "Python 3 (ipykernel)",
   "language": "python",
   "name": "python3"
  },
  "language_info": {
   "codemirror_mode": {
    "name": "ipython",
    "version": 3
   },
   "file_extension": ".py",
   "mimetype": "text/x-python",
   "name": "python",
   "nbconvert_exporter": "python",
   "pygments_lexer": "ipython3",
   "version": "3.9.12"
  }
 },
 "nbformat": 4,
 "nbformat_minor": 5
}
